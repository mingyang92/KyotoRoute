{
 "cells": [
  {
   "cell_type": "markdown",
   "metadata": {},
   "source": [
    "# DATA CLEANING FOR TOURIST DATA IN KYOTO 2019/10/10"
   ]
  },
  {
   "cell_type": "markdown",
   "metadata": {},
   "source": [
    "Goals of this document:\n",
    "divide the dataset into different segments according to ios/Android and date"
   ]
  },
  {
   "cell_type": "markdown",
   "metadata": {},
   "source": [
    "### 1. Basic information of the whole data"
   ]
  },
  {
   "cell_type": "code",
   "execution_count": 9,
   "metadata": {},
   "outputs": [],
   "source": [
    "import pandas as pd"
   ]
  },
  {
   "cell_type": "code",
   "execution_count": 7,
   "metadata": {},
   "outputs": [],
   "source": [
    "data = pd.read_csv('aky_gps_201809_201902.csv')"
   ]
  },
  {
   "cell_type": "code",
   "execution_count": 52,
   "metadata": {
    "scrolled": false
   },
   "outputs": [
    {
     "name": "stdout",
     "output_type": "stream",
     "text": [
      "      index              aid                               uid  \\\n",
      "0  11569572  ARUKUMACHIKYOTO  e866f6028d614783a7c7bbde2e5bf324   \n",
      "1  11569573  ARUKUMACHIKYOTO  e35bbe4b6b23490087f8b34e3eeeaab4   \n",
      "2  11569574  ARUKUMACHIKYOTO  0786227f20db48c29b484bf47d38203f   \n",
      "3  11569575  ARUKUMACHIKYOTO  FDDAC906671F40A28986C9B19D887E3F   \n",
      "4  11569576  ARUKUMACHIKYOTO  8484d5ae1d11447699983b12a6dc0df4   \n",
      "\n",
      "                       uptime                                  pos      cd1  \\\n",
      "0  2018-09-01 00:00:00.893739             (34.9985301,135.7270332)  Android   \n",
      "1  2018-09-01 00:00:01.160698             (39.7225388,140.1076999)  Android   \n",
      "2  2018-09-01 00:00:02.445708             (34.9803916,135.7067892)  Android   \n",
      "3  2018-09-01 00:00:03.976715  (35.0019141942008,138.489014311461)      iOS   \n",
      "4  2018-09-01 00:00:04.054839             (35.0519931,135.7698738)  Android   \n",
      "\n",
      "     cd2     cd3  cd4  cd5  ...  cd7  cd8  cd9  cd10  year month day hour  \\\n",
      "0  ja_JP  3.0.50  NaN  NaN  ...  NaN  NaN  NaN   NaN  2018    09  01   00   \n",
      "1  ja_JP  3.0.50  NaN  NaN  ...  NaN  NaN  NaN   NaN  2018    09  01   00   \n",
      "2  ja_JP  3.0.50  NaN  NaN  ...  NaN  NaN  NaN   NaN  2018    09  01   00   \n",
      "3  ja_JP  3.0.38  NaN  NaN  ...  NaN  NaN  NaN   NaN  2018    09  01   00   \n",
      "4  ja_JP  3.0.50  NaN  NaN  ...  NaN  NaN  NaN   NaN  2018    09  01   00   \n",
      "\n",
      "  minute     second  \n",
      "0     00  00.893739  \n",
      "1     00  01.160698  \n",
      "2     00  02.445708  \n",
      "3     00  03.976715  \n",
      "4     00  04.054839  \n",
      "\n",
      "[5 rows x 21 columns]\n",
      "data volume 14432814\n"
     ]
    }
   ],
   "source": [
    "print(data.head())\n",
    "print(\"data volume\",len(data))"
   ]
  },
  {
   "cell_type": "markdown",
   "metadata": {},
   "source": [
    "Description of the dataset:\n",
    "\n",
    "DataID: aid\n",
    "UserID: uid, represent the model-specific number\n",
    "Time: uptime\n",
    "Latitude & Longitude: pos\n",
    "OS: cd1\n",
    "Nationality: cd2\n",
    "App version: cd3\n",
    "\n",
    "Data volume: 14432814"
   ]
  },
  {
   "cell_type": "code",
   "execution_count": 16,
   "metadata": {},
   "outputs": [
    {
     "data": {
      "text/html": [
       "<div>\n",
       "<style scoped>\n",
       "    .dataframe tbody tr th:only-of-type {\n",
       "        vertical-align: middle;\n",
       "    }\n",
       "\n",
       "    .dataframe tbody tr th {\n",
       "        vertical-align: top;\n",
       "    }\n",
       "\n",
       "    .dataframe thead th {\n",
       "        text-align: right;\n",
       "    }\n",
       "</style>\n",
       "<table border=\"1\" class=\"dataframe\">\n",
       "  <thead>\n",
       "    <tr style=\"text-align: right;\">\n",
       "      <th>cd1</th>\n",
       "      <th>Android</th>\n",
       "      <th>iOS</th>\n",
       "    </tr>\n",
       "    <tr>\n",
       "      <th>aid</th>\n",
       "      <th></th>\n",
       "      <th></th>\n",
       "    </tr>\n",
       "  </thead>\n",
       "  <tbody>\n",
       "    <tr>\n",
       "      <th>ARUKUMACHIKYOTO</th>\n",
       "      <td>4722898</td>\n",
       "      <td>9709916</td>\n",
       "    </tr>\n",
       "  </tbody>\n",
       "</table>\n",
       "</div>"
      ],
      "text/plain": [
       "cd1              Android      iOS\n",
       "aid                              \n",
       "ARUKUMACHIKYOTO  4722898  9709916"
      ]
     },
     "execution_count": 16,
     "metadata": {},
     "output_type": "execute_result"
    }
   ],
   "source": [
    "# using crosstab, the basic statistical feature can be seen\n",
    "pd.crosstab(data.aid, data.cd1)"
   ]
  },
  {
   "cell_type": "code",
   "execution_count": 19,
   "metadata": {},
   "outputs": [
    {
     "data": {
      "text/plain": [
       "array(['Android', 'iOS'], dtype=object)"
      ]
     },
     "execution_count": 19,
     "metadata": {},
     "output_type": "execute_result"
    }
   ],
   "source": [
    "# list all the unique values in the data column\n",
    "data.cd1.unique()"
   ]
  },
  {
   "cell_type": "code",
   "execution_count": 49,
   "metadata": {},
   "outputs": [
    {
     "name": "stdout",
     "output_type": "stream",
     "text": [
      "87E960BB4B7C40C5B98EC16308284570    11931\n",
      "6642E9327B7640F6A264C3E2CE2A0107    11902\n",
      "C26A06E7AB7C4AB795379F6FFB2C2A77    11658\n",
      "AD71A8D94FAB4499BC303FFAE320A019    10472\n",
      "6BEC378D4D5B4752A4A7BA4A02B64A1B     9932\n",
      "A4031E921AC540AE8DD3C015CFBB5850     9816\n",
      "EB8F47C359C4408895A24CC1B80378E0     9801\n",
      "D642A93E2384473895C7B1A84A779E15     9666\n",
      "3180C7C271DE4FBD96474CA913CE996E     9121\n",
      "F9D8B2C853BC46DB9B51B30B472DBC43     9053\n",
      "35928250C5B14ECBB6858CC66370BC64     8726\n",
      "016127C8BE474AB7B900A8589DA7CB64     8574\n",
      "6DFBB08DC2A8420C8353E5BB09F8CD71     8546\n",
      "CC4D822813A0468EA9B91F78F388A37C     8529\n",
      "04102C7B3720430C91F5F273DC3BD51B     8415\n",
      "CB3C0B6EE13447108EBBD21760528CF8     8208\n",
      "E78703688BD049EE9DE3214B7C7EA115     7937\n",
      "70C0280CE40B444DB748FB3CE4578137     7834\n",
      "C37AB65F76AF4C258FD4277B2D118231     7831\n",
      "9E9B232D39BF4421994615BD144FE025     7798\n",
      "ADC7A38F89CF4BF5A82FD248271EFE22     7478\n",
      "7FF990884901406091D617E03498D6EF     7191\n",
      "BC9538CF808943EAB522624A14E37B86     7007\n",
      "ACFF2B7E5B894A2EB1668DB6BE214BA1     6972\n",
      "E9DEC552F84746D8993C3E2AE2119B86     6865\n",
      "F07D5A4702EA40D982041251ACA8ED92     6653\n",
      "AE54792AB6EB4A2A8C9593842AB911CE     6605\n",
      "A928185FE117420DAB0E841D6EB96452     6484\n",
      "89C16BACB50543EDB718E0D32C5B1CBB     6483\n",
      "A37672761ECC4C04A4FF68798F5766AE     6411\n",
      "                                    ...  \n",
      "A4FC65EE9C9F43B1A90653AC1A013758        1\n",
      "E81AE842342744A1A50B5A32779CDBB9        1\n",
      "ffb6cbb4d1334734ad291b7d4a30f2ab        1\n",
      "0D8E32CBA8BF47CA88F71D31D23D460F        1\n",
      "9ED487E5AD4A4F74881E066052BCE226        1\n",
      "E2CEADF9E90F4269AFA4CA088E7F7233        1\n",
      "3D15440A71734546A4FD323FCE068309        1\n",
      "7122DCB1ABBF44E1919B28D0F7043307        1\n",
      "199D35EB0A504114B98AF40C49CCE2E1        1\n",
      "D77CE72276B645D886D7A99145FB7E4F        1\n",
      "cbd84ab074394b25a4d9461ed82bcf73        1\n",
      "6900A12AD8144703A07FA562433C2C55        1\n",
      "3C248B1A045046AAA05B77FF0C5BBDDA        1\n",
      "fe067d8ea9f84d69ad63beda9c295f92        1\n",
      "1D1641C3521F4E18AE91800C9AF10809        1\n",
      "13AAC4C0BF7E43B18591BDA908C5DE6C        1\n",
      "04EB6B0010DC43568F0091ABBA8180DF        1\n",
      "0832AA0B6DBD4C6D839B92860A1AF726        1\n",
      "5FCB42F587834CCA951613DF3B509F69        1\n",
      "3B46F236F9614B94BFDEAAEA0A23DA90        1\n",
      "4c2ef606c5d540bd8d5caf462308be4a        1\n",
      "63642A488E4F4AD9935278B0C94CC6CF        1\n",
      "B5869D8E58074D5D807FE8451995C898        1\n",
      "47aeb4218fe742aba40dcc16afac840f        1\n",
      "DEA18139FAC74059AEBDFDEBF4717183        1\n",
      "784A5EB5CF9442D0BD87130637CFB97D        1\n",
      "6CB0CBD13B25499FA60F547CCD6E46DC        1\n",
      "421E232C69C84EEAAA8ED00C6BCA0345        1\n",
      "22A7079CE2FE4B2FBBA8CB9F425A8E3E        1\n",
      "0dd3e32432bf4a22b96ab2cbe76a1a14        1\n",
      "Name: uid, Length: 38742, dtype: int64\n"
     ]
    }
   ],
   "source": [
    "# get numbers of unique values and numbers of values for each unique value\n",
    "s = pd.value_counts(data.uid)\n",
    "s1 = pd.Series({'unique': len(s), 'unique values': s.index.tolist()})\n",
    "s.append(s1)\n",
    "print(s)"
   ]
  },
  {
   "cell_type": "markdown",
   "metadata": {},
   "source": [
    "Number of userID: 38742"
   ]
  },
  {
   "cell_type": "code",
   "execution_count": 39,
   "metadata": {},
   "outputs": [
    {
     "name": "stdout",
     "output_type": "stream",
     "text": [
      "      0   1   2\n",
      "0  2018  09  01\n",
      "1  2018  09  01\n",
      "2  2018  09  01\n",
      "3  2018  09  01\n",
      "4  2018  09  01\n",
      "    0   1          2\n",
      "0  00  00  00.893739\n",
      "1  00  00  01.160698\n",
      "2  00  00  02.445708\n",
      "3  00  00  03.976715\n",
      "4  00  00  04.054839\n"
     ]
    }
   ],
   "source": [
    "# seperate the date into \"year\", \"month\" and \"day\", n set to 2, means that the first 2 \"-\" is seperated\n",
    "date = timeStore[0].str.split(\"-\", n = 2, expand = True)\n",
    "time = timeStore[1].str.split(\":\", n = 2, expand = True)\n",
    "print(date.head())\n",
    "print(time.head())"
   ]
  },
  {
   "cell_type": "code",
   "execution_count": 40,
   "metadata": {},
   "outputs": [
    {
     "name": "stdout",
     "output_type": "stream",
     "text": [
      "      index              aid                               uid  \\\n",
      "0  11569572  ARUKUMACHIKYOTO  e866f6028d614783a7c7bbde2e5bf324   \n",
      "1  11569573  ARUKUMACHIKYOTO  e35bbe4b6b23490087f8b34e3eeeaab4   \n",
      "2  11569574  ARUKUMACHIKYOTO  0786227f20db48c29b484bf47d38203f   \n",
      "3  11569575  ARUKUMACHIKYOTO  FDDAC906671F40A28986C9B19D887E3F   \n",
      "4  11569576  ARUKUMACHIKYOTO  8484d5ae1d11447699983b12a6dc0df4   \n",
      "\n",
      "                       uptime                                  pos      cd1  \\\n",
      "0  2018-09-01 00:00:00.893739             (34.9985301,135.7270332)  Android   \n",
      "1  2018-09-01 00:00:01.160698             (39.7225388,140.1076999)  Android   \n",
      "2  2018-09-01 00:00:02.445708             (34.9803916,135.7067892)  Android   \n",
      "3  2018-09-01 00:00:03.976715  (35.0019141942008,138.489014311461)      iOS   \n",
      "4  2018-09-01 00:00:04.054839             (35.0519931,135.7698738)  Android   \n",
      "\n",
      "     cd2     cd3  cd4  cd5  ...  cd7  cd8  cd9  cd10  year month day hour  \\\n",
      "0  ja_JP  3.0.50  NaN  NaN  ...  NaN  NaN  NaN   NaN  2018    09  01   00   \n",
      "1  ja_JP  3.0.50  NaN  NaN  ...  NaN  NaN  NaN   NaN  2018    09  01   00   \n",
      "2  ja_JP  3.0.50  NaN  NaN  ...  NaN  NaN  NaN   NaN  2018    09  01   00   \n",
      "3  ja_JP  3.0.38  NaN  NaN  ...  NaN  NaN  NaN   NaN  2018    09  01   00   \n",
      "4  ja_JP  3.0.50  NaN  NaN  ...  NaN  NaN  NaN   NaN  2018    09  01   00   \n",
      "\n",
      "  minute     second  \n",
      "0     00  00.893739  \n",
      "1     00  01.160698  \n",
      "2     00  02.445708  \n",
      "3     00  03.976715  \n",
      "4     00  04.054839  \n",
      "\n",
      "[5 rows x 21 columns]\n"
     ]
    }
   ],
   "source": [
    "# add seperated columns to the data frame\n",
    "data[\"year\"] = date[0]\n",
    "data[\"month\"] = date[1]\n",
    "data[\"day\"] = date[2]\n",
    "data[\"hour\"] = time[0]\n",
    "data[\"minute\"] = time[1]\n",
    "data[\"second\"] = time[2]\n",
    "print(data.head())"
   ]
  },
  {
   "cell_type": "markdown",
   "metadata": {},
   "source": [
    "### 2. seperate the dataset according to iOS/Android"
   ]
  },
  {
   "cell_type": "code",
   "execution_count": 109,
   "metadata": {},
   "outputs": [
    {
     "name": "stdout",
     "output_type": "stream",
     "text": [
      "0    False\n",
      "1    False\n",
      "2    False\n",
      "3     True\n",
      "4    False\n",
      "Name: cd1, dtype: bool\n",
      "0     True\n",
      "1     True\n",
      "2     True\n",
      "3    False\n",
      "4     True\n",
      "Name: cd1, dtype: bool\n",
      "(14432814, 23)\n",
      "(9709916, 23)\n",
      "(4722898, 23)\n"
     ]
    }
   ],
   "source": [
    "# select the data according to the value in the column\n",
    "is_ios = data['cd1'] == 'iOS'\n",
    "is_android = data['cd1'] == 'Android'\n",
    "print(is_ios.head())\n",
    "print(is_android.head())\n",
    "# filter rows for OS type is iOS using the boolean variable\n",
    "data_ios = data[is_ios].copy()\n",
    "data_android = data[is_android].copy()\n",
    "print(data.shape)\n",
    "print(data_ios.shape)\n",
    "print(data_android.shape)"
   ]
  },
  {
   "cell_type": "code",
   "execution_count": 43,
   "metadata": {},
   "outputs": [
    {
     "name": "stdout",
     "output_type": "stream",
     "text": [
      "Data filtered iOS: \n",
      "       index              aid                               uid  \\\n",
      "3   11569575  ARUKUMACHIKYOTO  FDDAC906671F40A28986C9B19D887E3F   \n",
      "7   11569579  ARUKUMACHIKYOTO  32745EE879D949C9BE0EBAD749AEB186   \n",
      "9   11569581  ARUKUMACHIKYOTO  279B8A3FFB9B4C908E074770F5EF6770   \n",
      "14  11569587  ARUKUMACHIKYOTO  2B58CA817B964169A8AB777D52E5DC9F   \n",
      "16  11569589  ARUKUMACHIKYOTO  3E2A3C144BA8436CBFED1D6BE03E011A   \n",
      "\n",
      "                        uptime                                  pos  cd1  \\\n",
      "3   2018-09-01 00:00:03.976715  (35.0019141942008,138.489014311461)  iOS   \n",
      "7   2018-09-01 00:00:07.965248  (34.9942979335641,135.765224724616)  iOS   \n",
      "9   2018-09-01 00:00:11.399308   (33.2968681492525,131.48625340308)  iOS   \n",
      "14  2018-09-01 00:00:24.712742  (35.0463042304561,137.140189365281)  iOS   \n",
      "16  2018-09-01 00:00:31.076658  (35.8602749519223,139.655075927717)  iOS   \n",
      "\n",
      "      cd2     cd3  cd4  cd5  ...  cd7  cd8  cd9  cd10  year month day hour  \\\n",
      "3   ja_JP  3.0.38  NaN  NaN  ...  NaN  NaN  NaN   NaN  2018    09  01   00   \n",
      "7   en_US  3.0.38  NaN  NaN  ...  NaN  NaN  NaN   NaN  2018    09  01   00   \n",
      "9   ja_JP  3.0.38  NaN  NaN  ...  NaN  NaN  NaN   NaN  2018    09  01   00   \n",
      "14  ja_JP  3.0.38  NaN  NaN  ...  NaN  NaN  NaN   NaN  2018    09  01   00   \n",
      "16  ja_JP  3.0.38  NaN  NaN  ...  NaN  NaN  NaN   NaN  2018    09  01   00   \n",
      "\n",
      "   minute     second  \n",
      "3      00  03.976715  \n",
      "7      00  07.965248  \n",
      "9      00  11.399308  \n",
      "14     00  24.712742  \n",
      "16     00  31.076658  \n",
      "\n",
      "[5 rows x 21 columns]\n",
      "Data filtered Android: \n",
      "      index              aid                               uid  \\\n",
      "0  11569572  ARUKUMACHIKYOTO  e866f6028d614783a7c7bbde2e5bf324   \n",
      "1  11569573  ARUKUMACHIKYOTO  e35bbe4b6b23490087f8b34e3eeeaab4   \n",
      "2  11569574  ARUKUMACHIKYOTO  0786227f20db48c29b484bf47d38203f   \n",
      "4  11569576  ARUKUMACHIKYOTO  8484d5ae1d11447699983b12a6dc0df4   \n",
      "5  11569577  ARUKUMACHIKYOTO  66acbc093cd94a60ac7cfc4bbba87582   \n",
      "\n",
      "                       uptime                       pos      cd1    cd2  \\\n",
      "0  2018-09-01 00:00:00.893739  (34.9985301,135.7270332)  Android  ja_JP   \n",
      "1  2018-09-01 00:00:01.160698  (39.7225388,140.1076999)  Android  ja_JP   \n",
      "2  2018-09-01 00:00:02.445708  (34.9803916,135.7067892)  Android  ja_JP   \n",
      "4  2018-09-01 00:00:04.054839  (35.0519931,135.7698738)  Android  ja_JP   \n",
      "5  2018-09-01 00:00:04.730331  (34.9736962,135.7020846)  Android  ja_JP   \n",
      "\n",
      "      cd3  cd4  cd5  ...  cd7  cd8  cd9  cd10  year month day hour minute  \\\n",
      "0  3.0.50  NaN  NaN  ...  NaN  NaN  NaN   NaN  2018    09  01   00     00   \n",
      "1  3.0.50  NaN  NaN  ...  NaN  NaN  NaN   NaN  2018    09  01   00     00   \n",
      "2  3.0.50  NaN  NaN  ...  NaN  NaN  NaN   NaN  2018    09  01   00     00   \n",
      "4  3.0.50  NaN  NaN  ...  NaN  NaN  NaN   NaN  2018    09  01   00     00   \n",
      "5  3.0.50  NaN  NaN  ...  NaN  NaN  NaN   NaN  2018    09  01   00     00   \n",
      "\n",
      "      second  \n",
      "0  00.893739  \n",
      "1  01.160698  \n",
      "2  02.445708  \n",
      "4  04.054839  \n",
      "5  04.730331  \n",
      "\n",
      "[5 rows x 21 columns]\n"
     ]
    }
   ],
   "source": [
    "#print the head of the filtered data (ios / android)\n",
    "print('Data filtered iOS: ')\n",
    "print(data_ios.head())\n",
    "print('Data filtered Android: ')\n",
    "print(data_android.head())"
   ]
  },
  {
   "cell_type": "markdown",
   "metadata": {},
   "source": [
    "### 3. seperate the ios and android data based on \"month\""
   ]
  },
  {
   "cell_type": "code",
   "execution_count": 111,
   "metadata": {},
   "outputs": [
    {
     "name": "stdout",
     "output_type": "stream",
     "text": [
      "3     True\n",
      "7     True\n",
      "9     True\n",
      "14    True\n",
      "16    True\n",
      "dtype: bool\n",
      "(1167253, 23)\n",
      "(1510226, 23)\n",
      "(1716599, 23)\n",
      "(1760904, 23)\n",
      "(1773276, 23)\n",
      "(1781658, 23)\n",
      "(625652, 23)\n",
      "(726794, 23)\n",
      "(832810, 23)\n",
      "(862175, 23)\n",
      "(858370, 23)\n",
      "(817097, 23)\n"
     ]
    }
   ],
   "source": [
    "# select the data according to the value in the column\n",
    "ios_1809 = (data_ios['month'] == '09') & (data_ios['year'] == '2018')\n",
    "ios_1810 = (data_ios['month'] == '10') & (data_ios['year'] == '2018')\n",
    "ios_1811 = (data_ios['month'] == '11') & (data_ios['year'] == '2018')\n",
    "ios_1812 = (data_ios['month'] == '12') & (data_ios['year'] == '2018')\n",
    "ios_1901 = (data_ios['month'] == '01') & (data_ios['year'] == '2019')\n",
    "ios_1902 = (data_ios['month'] == '02') & (data_ios['year'] == '2019')\n",
    "\n",
    "android_1809 = (data_android['month'] == '09') & (data_android['year'] == '2018')\n",
    "android_1810 = (data_android['month'] == '10') & (data_android['year'] == '2018')\n",
    "android_1811 = (data_android['month'] == '11') & (data_android['year'] == '2018')\n",
    "android_1812 = (data_android['month'] == '12') & (data_android['year'] == '2018')\n",
    "android_1901 = (data_android['month'] == '01') & (data_android['year'] == '2019')\n",
    "android_1902 = (data_android['month'] == '02') & (data_android['year'] == '2019')\n",
    "\n",
    "#is_android = data['cd1'] == 'Android'\n",
    "print(ios_1809.head())\n",
    "#print(is_android.head())\n",
    "# filter rows for OS type is iOS using the boolean variable\n",
    "data_ios_1809 = data_ios[ios_1809].copy()\n",
    "data_ios_1810 = data_ios[ios_1810].copy()\n",
    "data_ios_1811 = data_ios[ios_1811].copy()\n",
    "data_ios_1812 = data_ios[ios_1812].copy()\n",
    "data_ios_1901 = data_ios[ios_1901].copy()\n",
    "data_ios_1902 = data_ios[ios_1902].copy()\n",
    "\n",
    "data_android_1809 = data_android[android_1809].copy()\n",
    "data_android_1810 = data_android[android_1810].copy()\n",
    "data_android_1811 = data_android[android_1811].copy()\n",
    "data_android_1812 = data_android[android_1812].copy()\n",
    "data_android_1901 = data_android[android_1901].copy()\n",
    "data_android_1902 = data_android[android_1902].copy()\n",
    "\n",
    "# print the shape of data\n",
    "print(data_ios_1809.shape)\n",
    "print(data_ios_1810.shape)\n",
    "print(data_ios_1811.shape)\n",
    "print(data_ios_1812.shape)\n",
    "print(data_ios_1901.shape)\n",
    "print(data_ios_1902.shape)\n",
    "\n",
    "print(data_android_1809.shape)\n",
    "print(data_android_1810.shape)\n",
    "print(data_android_1811.shape)\n",
    "print(data_android_1812.shape)\n",
    "print(data_android_1901.shape)\n",
    "print(data_android_1902.shape)\n"
   ]
  },
  {
   "cell_type": "markdown",
   "metadata": {},
   "source": [
    "### 4. Add 'dataVolume' and 'IDvolume' to each data file"
   ]
  },
  {
   "cell_type": "code",
   "execution_count": 104,
   "metadata": {},
   "outputs": [
    {
     "name": "stdout",
     "output_type": "stream",
     "text": [
      "      index              aid                               uid  \\\n",
      "0  11569572  ARUKUMACHIKYOTO  e866f6028d614783a7c7bbde2e5bf324   \n",
      "1  11569573  ARUKUMACHIKYOTO  e35bbe4b6b23490087f8b34e3eeeaab4   \n",
      "2  11569574  ARUKUMACHIKYOTO  0786227f20db48c29b484bf47d38203f   \n",
      "3  11569575  ARUKUMACHIKYOTO  FDDAC906671F40A28986C9B19D887E3F   \n",
      "4  11569576  ARUKUMACHIKYOTO  8484d5ae1d11447699983b12a6dc0df4   \n",
      "\n",
      "                       uptime                                  pos      cd1  \\\n",
      "0  2018-09-01 00:00:00.893739             (34.9985301,135.7270332)  Android   \n",
      "1  2018-09-01 00:00:01.160698             (39.7225388,140.1076999)  Android   \n",
      "2  2018-09-01 00:00:02.445708             (34.9803916,135.7067892)  Android   \n",
      "3  2018-09-01 00:00:03.976715  (35.0019141942008,138.489014311461)      iOS   \n",
      "4  2018-09-01 00:00:04.054839             (35.0519931,135.7698738)  Android   \n",
      "\n",
      "     cd2     cd3  cd4  cd5  ...  cd9  cd10  year  month  day hour minute  \\\n",
      "0  ja_JP  3.0.50  NaN  NaN  ...  NaN   NaN  2018     09   01   00     00   \n",
      "1  ja_JP  3.0.50  NaN  NaN  ...  NaN   NaN  2018     09   01   00     00   \n",
      "2  ja_JP  3.0.50  NaN  NaN  ...  NaN   NaN  2018     09   01   00     00   \n",
      "3  ja_JP  3.0.38  NaN  NaN  ...  NaN   NaN  2018     09   01   00     00   \n",
      "4  ja_JP  3.0.50  NaN  NaN  ...  NaN   NaN  2018     09   01   00     00   \n",
      "\n",
      "      second   dataVolume IDvolume  \n",
      "0  00.893739  1.44328e+07    38742  \n",
      "1  01.160698                        \n",
      "2  02.445708                        \n",
      "3  03.976715                        \n",
      "4  04.054839                        \n",
      "\n",
      "[5 rows x 23 columns]\n"
     ]
    }
   ],
   "source": [
    "# add 'dataVolume' and 'IDvolume' to the data frame\n",
    "# to \"data\"\n",
    "data['dataVolume'] = pd.Series(len(data), index=data.index[[0]])\n",
    "data['dataVolume'] = data['dataVolume'].fillna('')\n",
    "data['IDvolume'] = pd.Series(len(s), index=data.index[[0]])\n",
    "data['IDvolume'] = data['IDvolume'].fillna('')\n",
    "print(data.head())"
   ]
  },
  {
   "cell_type": "code",
   "execution_count": 112,
   "metadata": {},
   "outputs": [
    {
     "name": "stdout",
     "output_type": "stream",
     "text": [
      "IOS DATA:         index              aid                               uid  \\\n",
      "3   11569575  ARUKUMACHIKYOTO  FDDAC906671F40A28986C9B19D887E3F   \n",
      "7   11569579  ARUKUMACHIKYOTO  32745EE879D949C9BE0EBAD749AEB186   \n",
      "9   11569581  ARUKUMACHIKYOTO  279B8A3FFB9B4C908E074770F5EF6770   \n",
      "14  11569587  ARUKUMACHIKYOTO  2B58CA817B964169A8AB777D52E5DC9F   \n",
      "16  11569589  ARUKUMACHIKYOTO  3E2A3C144BA8436CBFED1D6BE03E011A   \n",
      "\n",
      "                        uptime                                  pos  cd1  \\\n",
      "3   2018-09-01 00:00:03.976715  (35.0019141942008,138.489014311461)  iOS   \n",
      "7   2018-09-01 00:00:07.965248  (34.9942979335641,135.765224724616)  iOS   \n",
      "9   2018-09-01 00:00:11.399308   (33.2968681492525,131.48625340308)  iOS   \n",
      "14  2018-09-01 00:00:24.712742  (35.0463042304561,137.140189365281)  iOS   \n",
      "16  2018-09-01 00:00:31.076658  (35.8602749519223,139.655075927717)  iOS   \n",
      "\n",
      "      cd2     cd3  cd4  cd5  ...  cd9  cd10  year  month  day hour minute  \\\n",
      "3   ja_JP  3.0.38  NaN  NaN  ...  NaN   NaN  2018     09   01   00     00   \n",
      "7   en_US  3.0.38  NaN  NaN  ...  NaN   NaN  2018     09   01   00     00   \n",
      "9   ja_JP  3.0.38  NaN  NaN  ...  NaN   NaN  2018     09   01   00     00   \n",
      "14  ja_JP  3.0.38  NaN  NaN  ...  NaN   NaN  2018     09   01   00     00   \n",
      "16  ja_JP  3.0.38  NaN  NaN  ...  NaN   NaN  2018     09   01   00     00   \n",
      "\n",
      "       second   dataVolume IDvolume  \n",
      "3   03.976715  9.70992e+06    24732  \n",
      "7   07.965248                        \n",
      "9   11.399308                        \n",
      "14  24.712742                        \n",
      "16  31.076658                        \n",
      "\n",
      "[5 rows x 23 columns]\n",
      "ANDROID DATA:        index              aid                               uid  \\\n",
      "0  11569572  ARUKUMACHIKYOTO  e866f6028d614783a7c7bbde2e5bf324   \n",
      "1  11569573  ARUKUMACHIKYOTO  e35bbe4b6b23490087f8b34e3eeeaab4   \n",
      "2  11569574  ARUKUMACHIKYOTO  0786227f20db48c29b484bf47d38203f   \n",
      "4  11569576  ARUKUMACHIKYOTO  8484d5ae1d11447699983b12a6dc0df4   \n",
      "5  11569577  ARUKUMACHIKYOTO  66acbc093cd94a60ac7cfc4bbba87582   \n",
      "\n",
      "                       uptime                       pos      cd1    cd2  \\\n",
      "0  2018-09-01 00:00:00.893739  (34.9985301,135.7270332)  Android  ja_JP   \n",
      "1  2018-09-01 00:00:01.160698  (39.7225388,140.1076999)  Android  ja_JP   \n",
      "2  2018-09-01 00:00:02.445708  (34.9803916,135.7067892)  Android  ja_JP   \n",
      "4  2018-09-01 00:00:04.054839  (35.0519931,135.7698738)  Android  ja_JP   \n",
      "5  2018-09-01 00:00:04.730331  (34.9736962,135.7020846)  Android  ja_JP   \n",
      "\n",
      "      cd3  cd4  cd5  ...  cd9  cd10  year  month  day hour minute     second  \\\n",
      "0  3.0.50  NaN  NaN  ...  NaN   NaN  2018     09   01   00     00  00.893739   \n",
      "1  3.0.50  NaN  NaN  ...  NaN   NaN  2018     09   01   00     00  01.160698   \n",
      "2  3.0.50  NaN  NaN  ...  NaN   NaN  2018     09   01   00     00  02.445708   \n",
      "4  3.0.50  NaN  NaN  ...  NaN   NaN  2018     09   01   00     00  04.054839   \n",
      "5  3.0.50  NaN  NaN  ...  NaN   NaN  2018     09   01   00     00  04.730331   \n",
      "\n",
      "   dataVolume IDvolume  \n",
      "0  4.7229e+06    24732  \n",
      "1                       \n",
      "2                       \n",
      "4                       \n",
      "5                       \n",
      "\n",
      "[5 rows x 23 columns]\n"
     ]
    }
   ],
   "source": [
    "# to \"data_ios\" and \"data_android\"\n",
    "\n",
    "#get the all of the unique value of userID\n",
    "s1 = pd.value_counts(data_ios.uid)\n",
    "s2 = pd.value_counts(data_android.uid)\n",
    "\n",
    "data_ios['dataVolume'] = pd.Series(len(data_ios), index=data_ios.index[[0]]).copy()\n",
    "data_ios['dataVolume'] = data_ios['dataVolume'].fillna('')\n",
    "data_ios['IDvolume'] = pd.Series(len(s1), index=data_ios.index[[0]]).copy()\n",
    "data_ios['IDvolume'] = data_ios['IDvolume'].fillna('')\n",
    "print(\"IOS DATA: \", data_ios.head())\n",
    "\n",
    "data_android['dataVolume'] = pd.Series(len(data_android), index=data_android.index[[0]]).copy()\n",
    "data_android['dataVolume'] = data_android['dataVolume'].fillna('')\n",
    "data_android['IDvolume'] = pd.Series(len(s1), index=data_android.index[[0]]).copy()\n",
    "data_android['IDvolume'] = data_android['IDvolume'].fillna('')\n",
    "print(\"ANDROID DATA: \", data_android.head())"
   ]
  },
  {
   "cell_type": "code",
   "execution_count": 113,
   "metadata": {},
   "outputs": [],
   "source": [
    "# to data for each month and ios/android\n",
    "\n",
    "#get the all of the unique value of userID\n",
    "s3 = pd.value_counts(data_ios_1809.uid)\n",
    "s4 = pd.value_counts(data_ios_1810.uid)\n",
    "s5 = pd.value_counts(data_ios_1811.uid)\n",
    "s6 = pd.value_counts(data_ios_1812.uid)\n",
    "s7 = pd.value_counts(data_ios_1901.uid)\n",
    "s8 = pd.value_counts(data_ios_1902.uid)\n",
    "\n",
    "s9 = pd.value_counts(data_android_1809.uid)\n",
    "s10 = pd.value_counts(data_android_1810.uid)\n",
    "s11 = pd.value_counts(data_android_1811.uid)\n",
    "s12 = pd.value_counts(data_android_1812.uid)\n",
    "s13 = pd.value_counts(data_android_1901.uid)"
   ]
  },
  {
   "cell_type": "markdown",
   "metadata": {},
   "source": [
    "#### Data for each month 2018.09 - 2019.02 (6 months)"
   ]
  },
  {
   "cell_type": "code",
   "execution_count": 117,
   "metadata": {},
   "outputs": [
    {
     "name": "stdout",
     "output_type": "stream",
     "text": [
      "IOS 2018. 09: \n",
      "       index              aid                               uid  \\\n",
      "3   11569575  ARUKUMACHIKYOTO  FDDAC906671F40A28986C9B19D887E3F   \n",
      "7   11569579  ARUKUMACHIKYOTO  32745EE879D949C9BE0EBAD749AEB186   \n",
      "9   11569581  ARUKUMACHIKYOTO  279B8A3FFB9B4C908E074770F5EF6770   \n",
      "14  11569587  ARUKUMACHIKYOTO  2B58CA817B964169A8AB777D52E5DC9F   \n",
      "16  11569589  ARUKUMACHIKYOTO  3E2A3C144BA8436CBFED1D6BE03E011A   \n",
      "\n",
      "                        uptime                                  pos  cd1  \\\n",
      "3   2018-09-01 00:00:03.976715  (35.0019141942008,138.489014311461)  iOS   \n",
      "7   2018-09-01 00:00:07.965248  (34.9942979335641,135.765224724616)  iOS   \n",
      "9   2018-09-01 00:00:11.399308   (33.2968681492525,131.48625340308)  iOS   \n",
      "14  2018-09-01 00:00:24.712742  (35.0463042304561,137.140189365281)  iOS   \n",
      "16  2018-09-01 00:00:31.076658  (35.8602749519223,139.655075927717)  iOS   \n",
      "\n",
      "      cd2     cd3  cd4  cd5  ...  cd9  cd10  year  month  day hour minute  \\\n",
      "3   ja_JP  3.0.38  NaN  NaN  ...  NaN   NaN  2018     09   01   00     00   \n",
      "7   en_US  3.0.38  NaN  NaN  ...  NaN   NaN  2018     09   01   00     00   \n",
      "9   ja_JP  3.0.38  NaN  NaN  ...  NaN   NaN  2018     09   01   00     00   \n",
      "14  ja_JP  3.0.38  NaN  NaN  ...  NaN   NaN  2018     09   01   00     00   \n",
      "16  ja_JP  3.0.38  NaN  NaN  ...  NaN   NaN  2018     09   01   00     00   \n",
      "\n",
      "       second   dataVolume IDvolume  \n",
      "3   03.976715  1.16725e+06     7867  \n",
      "7   07.965248                        \n",
      "9   11.399308                        \n",
      "14  24.712742                        \n",
      "16  31.076658                        \n",
      "\n",
      "[5 rows x 23 columns]\n"
     ]
    }
   ],
   "source": [
    "# 2018.09 IOS\n",
    "data_ios_1809['dataVolume'] = pd.Series(len(data_ios_1809), index=data_ios_1809.index[[0]]).copy()\n",
    "data_ios_1809['dataVolume'] = data_ios_1809['dataVolume'].fillna('')\n",
    "data_ios_1809['IDvolume'] = pd.Series(len(s3), index=data_ios_1809.index[[0]]).copy()\n",
    "data_ios_1809['IDvolume'] = data_ios_1809['IDvolume'].fillna('')\n",
    "print(\"IOS 2018. 09: \")\n",
    "print(data_ios_1809.head())"
   ]
  },
  {
   "cell_type": "code",
   "execution_count": 116,
   "metadata": {},
   "outputs": [
    {
     "name": "stdout",
     "output_type": "stream",
     "text": [
      "IOS 2018.10: \n",
      "            index              aid                               uid  \\\n",
      "1792908  14064556  ARUKUMACHIKYOTO  506D8E7E802E4E36B936E12FEFAA0FE4   \n",
      "1792919  14064576  ARUKUMACHIKYOTO  2BCEAB2173894F0D83FF476AC3C33024   \n",
      "1792920  14064579  ARUKUMACHIKYOTO  2BCEAB2173894F0D83FF476AC3C33024   \n",
      "1792921  14064580  ARUKUMACHIKYOTO  828D8FF865EE4F2E9F671A0258EA6719   \n",
      "1792924  14064584  ARUKUMACHIKYOTO  2BCEAB2173894F0D83FF476AC3C33024   \n",
      "\n",
      "                             uptime                                  pos  cd1  \\\n",
      "1792908  2018-10-01 00:00:03.372633  (36.9823661807598,138.824641351888)  iOS   \n",
      "1792919  2018-10-01 00:00:38.819675  (35.0255068950681,135.730428462974)  iOS   \n",
      "1792920  2018-10-01 00:00:45.959289  (35.0255068950681,135.730428462974)  iOS   \n",
      "1792921  2018-10-01 00:00:46.818657   (43.805409105147,125.306854174876)  iOS   \n",
      "1792924  2018-10-01 00:00:49.658822  (35.0255068950681,135.730428462974)  iOS   \n",
      "\n",
      "           cd2     cd3     cd4      cd5  ...  cd9  cd10  year  month  day  \\\n",
      "1792908  ja_JP  3.0.38     NaN      NaN  ...  NaN   NaN  2018     10   01   \n",
      "1792919  ja_JP  3.0.38  SCREEN  時刻表・構内図  ...  NaN   NaN  2018     10   01   \n",
      "1792920  ja_JP  3.0.38  SCREEN   ルートマップ  ...  NaN   NaN  2018     10   01   \n",
      "1792921  ja_JP  3.0.38     NaN      NaN  ...  NaN   NaN  2018     10   01   \n",
      "1792924  ja_JP  3.0.38  SCREEN     HOME  ...  NaN   NaN  2018     10   01   \n",
      "\n",
      "        hour minute     second   dataVolume IDvolume  \n",
      "1792908   00     00  03.372633  1.51023e+06     9400  \n",
      "1792919   00     00  38.819675                        \n",
      "1792920   00     00  45.959289                        \n",
      "1792921   00     00  46.818657                        \n",
      "1792924   00     00  49.658822                        \n",
      "\n",
      "[5 rows x 23 columns]\n"
     ]
    }
   ],
   "source": [
    "# 2018.10 IOS\n",
    "data_ios_1810['dataVolume'] = pd.Series(len(data_ios_1810), index=data_ios_1810.index[[0]]).copy()\n",
    "data_ios_1810['dataVolume'] = data_ios_1810['dataVolume'].fillna('')\n",
    "data_ios_1810['IDvolume'] = pd.Series(len(s4), index=data_ios_1810.index[[0]]).copy()\n",
    "data_ios_1810['IDvolume'] = data_ios_1810['IDvolume'].fillna('')\n",
    "print(\"IOS 2018.10: \")\n",
    "print(data_ios_1810.head())"
   ]
  },
  {
   "cell_type": "code",
   "execution_count": 118,
   "metadata": {},
   "outputs": [
    {
     "name": "stdout",
     "output_type": "stream",
     "text": [
      "IOS 2018.11: \n",
      "            index              aid                               uid  \\\n",
      "4029925  17106105  ARUKUMACHIKYOTO  F637D890B362455086A4BBBD2A5B910E   \n",
      "4029930  17106111  ARUKUMACHIKYOTO  62EA1715F6F44AB38794834C2B57D804   \n",
      "4029933  17106114  ARUKUMACHIKYOTO  C9613ABA83AB4112A93220689E5B7BA8   \n",
      "4029938  17106120  ARUKUMACHIKYOTO  9E923B3211944162BE689DFEE2E99D8D   \n",
      "4029939  17106121  ARUKUMACHIKYOTO  C60953484008498E80232CD8B86EF578   \n",
      "\n",
      "                             uptime                                  pos  cd1  \\\n",
      "4029925  2018-11-01 00:00:01.427719  (35.6833843678607,139.766285719263)  iOS   \n",
      "4029930  2018-11-01 00:00:11.021441  (35.6089607095906,139.670857978219)  iOS   \n",
      "4029933  2018-11-01 00:00:14.365188  (35.7061049978456,139.844965951578)  iOS   \n",
      "4029938   2018-11-01 00:00:21.13083  (45.5092858530944,9.15271608203542)  iOS   \n",
      "4029939  2018-11-01 00:00:21.865218  (35.2783393180302,139.680744679667)  iOS   \n",
      "\n",
      "                             cd2     cd3  cd4  cd5  ...  cd9  cd10  year  \\\n",
      "4029925  ja_JP@calendar=japanese  3.0.43  NaN  NaN  ...  NaN   NaN  2018   \n",
      "4029930                    ja_JP  3.0.38  NaN  NaN  ...  NaN   NaN  2018   \n",
      "4029933                    ja_JP  3.0.43  NaN  NaN  ...  NaN   NaN  2018   \n",
      "4029938                    it_IT  3.0.38  NaN  NaN  ...  NaN   NaN  2018   \n",
      "4029939                    ja_JP  3.0.43  NaN  NaN  ...  NaN   NaN  2018   \n",
      "\n",
      "         month  day hour minute     second  dataVolume IDvolume  \n",
      "4029925     11   01   00     00  01.427719  1.7166e+06    10330  \n",
      "4029930     11   01   00     00  11.021441                       \n",
      "4029933     11   01   00     00  14.365188                       \n",
      "4029938     11   01   00     00   21.13083                       \n",
      "4029939     11   01   00     00  21.865218                       \n",
      "\n",
      "[5 rows x 23 columns]\n"
     ]
    }
   ],
   "source": [
    "# 2018.11 IOS\n",
    "data_ios_1811['dataVolume'] = pd.Series(len(data_ios_1811), index=data_ios_1811.index[[0]]).copy()\n",
    "data_ios_1811['dataVolume'] = data_ios_1811['dataVolume'].fillna('')\n",
    "data_ios_1811['IDvolume'] = pd.Series(len(s5), index=data_ios_1811.index[[0]]).copy()\n",
    "data_ios_1811['IDvolume'] = data_ios_1811['IDvolume'].fillna('')\n",
    "print(\"IOS 2018.11: \")\n",
    "print(data_ios_1811.head())"
   ]
  },
  {
   "cell_type": "code",
   "execution_count": 119,
   "metadata": {},
   "outputs": [
    {
     "name": "stdout",
     "output_type": "stream",
     "text": [
      "IOS 2018.12: \n",
      "            index              aid                               uid  \\\n",
      "6579335  20513509  ARUKUMACHIKYOTO  FB4A41C873444C8297A122EEB2EBC699   \n",
      "6579336  20513510  ARUKUMACHIKYOTO  ECD5845681224EF7ADBF76F94BC0209A   \n",
      "6579337  20513512  ARUKUMACHIKYOTO  4C5EDABB561143E88DCE7CE2B9AF2D65   \n",
      "6579339  20513517  ARUKUMACHIKYOTO  4C03CDAF084445B2909E1DEE2B2A3378   \n",
      "6579340  20513518  ARUKUMACHIKYOTO  1456D55D13CD400B931D2A055B4CDCA9   \n",
      "\n",
      "                             uptime                                  pos  cd1  \\\n",
      "6579335  2018-12-01 00:00:04.397343   (35.0311122366276,135.78469525172)  iOS   \n",
      "6579336  2018-12-01 00:00:04.397343  (-6.0605354309082,106.112256534496)  iOS   \n",
      "6579337  2018-12-01 00:00:05.069207  (35.7776428021973,139.721151798097)  iOS   \n",
      "6579339  2018-12-01 00:00:08.159426  (22.2798695243949,114.188000544781)  iOS   \n",
      "6579340    2018-12-01 00:00:08.3313    (34.9888717900587,135.7169032945)  iOS   \n",
      "\n",
      "           cd2     cd3     cd4     cd5  ...  cd9  cd10  year  month  day hour  \\\n",
      "6579335  ja_JP  3.0.45     NaN     NaN  ...  NaN   NaN  2018     12   01   00   \n",
      "6579336  en_ID  3.0.45  SCREEN  ルートマップ  ...  NaN   NaN  2018     12   01   00   \n",
      "6579337  ja_JP  3.0.45     NaN     NaN  ...  NaN   NaN  2018     12   01   00   \n",
      "6579339  en_HK  3.0.45     NaN     NaN  ...  NaN   NaN  2018     12   01   00   \n",
      "6579340  ja_JP  3.0.45     NaN     NaN  ...  NaN   NaN  2018     12   01   00   \n",
      "\n",
      "        minute     second  dataVolume IDvolume  \n",
      "6579335     00  04.397343  1.7609e+06     9068  \n",
      "6579336     00  04.397343                       \n",
      "6579337     00  05.069207                       \n",
      "6579339     00  08.159426                       \n",
      "6579340     00    08.3313                       \n",
      "\n",
      "[5 rows x 23 columns]\n"
     ]
    }
   ],
   "source": [
    "# 2018.12 IOS\n",
    "data_ios_1812['dataVolume'] = pd.Series(len(data_ios_1812), index=data_ios_1812.index[[0]]).copy()\n",
    "data_ios_1812['dataVolume'] = data_ios_1812['dataVolume'].fillna('')\n",
    "data_ios_1812['IDvolume'] = pd.Series(len(s6), index=data_ios_1812.index[[0]]).copy()\n",
    "data_ios_1812['IDvolume'] = data_ios_1812['IDvolume'].fillna('')\n",
    "print(\"IOS 2018.12: \")\n",
    "print(data_ios_1812.head())"
   ]
  },
  {
   "cell_type": "code",
   "execution_count": 120,
   "metadata": {},
   "outputs": [
    {
     "name": "stdout",
     "output_type": "stream",
     "text": [
      "IOS 2019.01: \n",
      "            index              aid                               uid  \\\n",
      "9202413  24073500  ARUKUMACHIKYOTO  59A61334883148B1A828F66315B99576   \n",
      "9202418  24073505  ARUKUMACHIKYOTO  C15C844C40304BC9845873AC3036D6FE   \n",
      "9202419  24073506  ARUKUMACHIKYOTO  002329008FE549198028678FC912141A   \n",
      "9202423  24073510  ARUKUMACHIKYOTO  89B2F14E2A6B4CB2B08C7939FAA7DDD6   \n",
      "9202424  24073511  ARUKUMACHIKYOTO  428A5658790048088B0FFAB458345FAB   \n",
      "\n",
      "                             uptime                                  pos  cd1  \\\n",
      "9202413  2019-01-01 00:00:01.188406  (35.0219441589723,135.719677395866)  iOS   \n",
      "9202418  2019-01-01 00:00:05.113343  (37.2995103405462,137.152984687982)  iOS   \n",
      "9202419  2019-01-01 00:00:05.810836  (22.4604855154696,114.158499193476)  iOS   \n",
      "9202423  2019-01-01 00:00:12.956302  (35.1953945937486,136.790153626103)  iOS   \n",
      "9202424   2019-01-01 00:00:13.19068  (33.5321934935811,131.322978466718)  iOS   \n",
      "\n",
      "           cd2     cd3  cd4  cd5  ...  cd9  cd10  year  month  day hour  \\\n",
      "9202413  ja_JP  3.0.45  NaN  NaN  ...  NaN   NaN  2019     01   01   00   \n",
      "9202418  ja_JP  3.0.45  NaN  NaN  ...  NaN   NaN  2019     01   01   00   \n",
      "9202419  zh_HK  3.0.45  NaN  NaN  ...  NaN   NaN  2019     01   01   00   \n",
      "9202423  ja_JP  3.0.45  NaN  NaN  ...  NaN   NaN  2019     01   01   00   \n",
      "9202424  ja_JP  3.0.45  NaN  NaN  ...  NaN   NaN  2019     01   01   00   \n",
      "\n",
      "        minute     second   dataVolume IDvolume  \n",
      "9202413     00  01.188406  1.77328e+06     9228  \n",
      "9202418     00  05.113343                        \n",
      "9202419     00  05.810836                        \n",
      "9202423     00  12.956302                        \n",
      "9202424     00   13.19068                        \n",
      "\n",
      "[5 rows x 23 columns]\n"
     ]
    }
   ],
   "source": [
    "# 2019.01 IOS\n",
    "data_ios_1901['dataVolume'] = pd.Series(len(data_ios_1901), index=data_ios_1901.index[[0]]).copy()\n",
    "data_ios_1901['dataVolume'] = data_ios_1901['dataVolume'].fillna('')\n",
    "data_ios_1901['IDvolume'] = pd.Series(len(s7), index=data_ios_1901.index[[0]]).copy()\n",
    "data_ios_1901['IDvolume'] = data_ios_1901['IDvolume'].fillna('')\n",
    "print(\"IOS 2019.01: \")\n",
    "print(data_ios_1901.head())"
   ]
  },
  {
   "cell_type": "code",
   "execution_count": 121,
   "metadata": {},
   "outputs": [
    {
     "name": "stdout",
     "output_type": "stream",
     "text": [
      "IOS 2019.02: \n",
      "             index              aid                               uid  \\\n",
      "11834060  27512741  ARUKUMACHIKYOTO  08CD1CA8AB2F4FD49FC1B1B2AE13B45B   \n",
      "11834076  27512760  ARUKUMACHIKYOTO  10AD787AF9494AEC8D7072D83336E8AC   \n",
      "11834079  27512764  ARUKUMACHIKYOTO  D43390EEAB55428098374D707FEE734D   \n",
      "11834083  27512772  ARUKUMACHIKYOTO  26C652B2F32B4D18A028A11CCAA6B41D   \n",
      "11834087  27512779  ARUKUMACHIKYOTO  EEF50E272726414C9C679351DC2DAC3F   \n",
      "\n",
      "                              uptime                                  pos  \\\n",
      "11834060  2019-02-01 00:00:00.671331    (32.48527486723,34.9540694676429)   \n",
      "11834076  2019-02-01 00:00:10.002361  (24.7578054306915,121.052794412228)   \n",
      "11834079  2019-02-01 00:00:12.068382  (35.0405113399355,135.769966403149)   \n",
      "11834083  2019-02-01 00:00:22.918671           (35.02203304,135.78041172)   \n",
      "11834087  2019-02-01 00:00:34.282092  (34.7898119536228,138.052504612305)   \n",
      "\n",
      "          cd1    cd2     cd3  cd4  cd5  ...  cd9  cd10  year  month  day hour  \\\n",
      "11834060  iOS  ja_JP  3.0.45  NaN  NaN  ...  NaN   NaN  2019     02   01   00   \n",
      "11834076  iOS  zh_TW  3.0.45  NaN  NaN  ...  NaN   NaN  2019     02   01   00   \n",
      "11834079  iOS  ja_JP  3.0.45  NaN  NaN  ...  NaN   NaN  2019     02   01   00   \n",
      "11834083  iOS  ja_JP  3.0.45  NaN  NaN  ...  NaN   NaN  2019     02   01   00   \n",
      "11834087  iOS  ja_JP  3.0.45  NaN  NaN  ...  NaN   NaN  2019     02   01   00   \n",
      "\n",
      "         minute     second   dataVolume IDvolume  \n",
      "11834060     00  00.671331  1.78166e+06     9228  \n",
      "11834076     00  10.002361                        \n",
      "11834079     00  12.068382                        \n",
      "11834083     00  22.918671                        \n",
      "11834087     00  34.282092                        \n",
      "\n",
      "[5 rows x 23 columns]\n"
     ]
    }
   ],
   "source": [
    "# 2019.02 IOS\n",
    "data_ios_1902['dataVolume'] = pd.Series(len(data_ios_1902), index=data_ios_1902.index[[0]]).copy()\n",
    "data_ios_1902['dataVolume'] = data_ios_1902['dataVolume'].fillna('')\n",
    "data_ios_1902['IDvolume'] = pd.Series(len(s7), index=data_ios_1902.index[[0]]).copy()\n",
    "data_ios_1902['IDvolume'] = data_ios_1902['IDvolume'].fillna('')\n",
    "print(\"IOS 2019.02: \")\n",
    "print(data_ios_1902.head())"
   ]
  },
  {
   "cell_type": "code",
   "execution_count": 122,
   "metadata": {},
   "outputs": [
    {
     "name": "stdout",
     "output_type": "stream",
     "text": [
      "ANDROID 2019.02: \n",
      "      index              aid                               uid  \\\n",
      "0  11569572  ARUKUMACHIKYOTO  e866f6028d614783a7c7bbde2e5bf324   \n",
      "1  11569573  ARUKUMACHIKYOTO  e35bbe4b6b23490087f8b34e3eeeaab4   \n",
      "2  11569574  ARUKUMACHIKYOTO  0786227f20db48c29b484bf47d38203f   \n",
      "4  11569576  ARUKUMACHIKYOTO  8484d5ae1d11447699983b12a6dc0df4   \n",
      "5  11569577  ARUKUMACHIKYOTO  66acbc093cd94a60ac7cfc4bbba87582   \n",
      "\n",
      "                       uptime                       pos      cd1    cd2  \\\n",
      "0  2018-09-01 00:00:00.893739  (34.9985301,135.7270332)  Android  ja_JP   \n",
      "1  2018-09-01 00:00:01.160698  (39.7225388,140.1076999)  Android  ja_JP   \n",
      "2  2018-09-01 00:00:02.445708  (34.9803916,135.7067892)  Android  ja_JP   \n",
      "4  2018-09-01 00:00:04.054839  (35.0519931,135.7698738)  Android  ja_JP   \n",
      "5  2018-09-01 00:00:04.730331  (34.9736962,135.7020846)  Android  ja_JP   \n",
      "\n",
      "      cd3  cd4  cd5  ...  cd9  cd10  year  month  day hour minute     second  \\\n",
      "0  3.0.50  NaN  NaN  ...  NaN   NaN  2018     09   01   00     00  00.893739   \n",
      "1  3.0.50  NaN  NaN  ...  NaN   NaN  2018     09   01   00     00  01.160698   \n",
      "2  3.0.50  NaN  NaN  ...  NaN   NaN  2018     09   01   00     00  02.445708   \n",
      "4  3.0.50  NaN  NaN  ...  NaN   NaN  2018     09   01   00     00  04.054839   \n",
      "5  3.0.50  NaN  NaN  ...  NaN   NaN  2018     09   01   00     00  04.730331   \n",
      "\n",
      "  dataVolume IDvolume  \n",
      "0     625652     4358  \n",
      "1                      \n",
      "2                      \n",
      "4                      \n",
      "5                      \n",
      "\n",
      "[5 rows x 23 columns]\n"
     ]
    }
   ],
   "source": [
    "# 2018.09 ANDROID\n",
    "data_android_1809['dataVolume'] = pd.Series(len(data_android_1809), index=data_android_1809.index[[0]]).copy()\n",
    "data_android_1809['dataVolume'] = data_android_1809['dataVolume'].fillna('')\n",
    "data_android_1809['IDvolume'] = pd.Series(len(s9), index=data_android_1809.index[[0]]).copy()\n",
    "data_android_1809['IDvolume'] = data_android_1809['IDvolume'].fillna('')\n",
    "print(\"ANDROID 2019.02: \")\n",
    "print(data_android_1809.head())"
   ]
  },
  {
   "cell_type": "code",
   "execution_count": 123,
   "metadata": {},
   "outputs": [
    {
     "name": "stdout",
     "output_type": "stream",
     "text": [
      "ANDROID 2018.10: \n",
      "            index              aid                               uid  \\\n",
      "1792905  14064552  ARUKUMACHIKYOTO  b90451dd32be4895a63a2f67b6b2f2a6   \n",
      "1792906  14064553  ARUKUMACHIKYOTO  26debaf31e1946b8a2259baa38b37928   \n",
      "1792907  14064555  ARUKUMACHIKYOTO  ffaccc7a63cd40ce86efe9973438ef0c   \n",
      "1792909  14064559  ARUKUMACHIKYOTO  2d084c7b12534191960a38dda97cb9ee   \n",
      "1792910  14064560  ARUKUMACHIKYOTO  c6c3364f8425484dad629a821ca543d4   \n",
      "\n",
      "                             uptime                       pos      cd1    cd2  \\\n",
      "1792905  2018-10-01 00:00:01.318764  (35.6926619,139.7847728)  Android  en_GB   \n",
      "1792906  2018-10-01 00:00:01.350013  (35.1359167,136.9710634)  Android  ja_JP   \n",
      "1792907  2018-10-01 00:00:02.466382  (35.0219652,135.7392413)  Android  ja_JP   \n",
      "1792909  2018-10-01 00:00:08.163017  (35.6352935,140.0638553)  Android  ja_JP   \n",
      "1792910  2018-10-01 00:00:12.370329  (35.3814708,136.7951901)  Android  ja_JP   \n",
      "\n",
      "            cd3  cd4  cd5  ...  cd9  cd10  year  month  day hour minute  \\\n",
      "1792905  3.0.50  NaN  NaN  ...  NaN   NaN  2018     10   01   00     00   \n",
      "1792906  3.0.50  NaN  NaN  ...  NaN   NaN  2018     10   01   00     00   \n",
      "1792907  3.0.50  NaN  NaN  ...  NaN   NaN  2018     10   01   00     00   \n",
      "1792909  3.0.50  NaN  NaN  ...  NaN   NaN  2018     10   01   00     00   \n",
      "1792910  3.0.50  NaN  NaN  ...  NaN   NaN  2018     10   01   00     00   \n",
      "\n",
      "            second dataVolume IDvolume  \n",
      "1792905  01.318764     726794     5719  \n",
      "1792906  01.350013                      \n",
      "1792907  02.466382                      \n",
      "1792909  08.163017                      \n",
      "1792910  12.370329                      \n",
      "\n",
      "[5 rows x 23 columns]\n"
     ]
    }
   ],
   "source": [
    "# 2018.10 ANDROID\n",
    "data_android_1810['dataVolume'] = pd.Series(len(data_android_1810), index=data_android_1810.index[[0]]).copy()\n",
    "data_android_1810['dataVolume'] = data_android_1810['dataVolume'].fillna('')\n",
    "data_android_1810['IDvolume'] = pd.Series(len(s10), index=data_android_1810.index[[0]]).copy()\n",
    "data_android_1810['IDvolume'] = data_android_1810['IDvolume'].fillna('')\n",
    "print(\"ANDROID 2018.10: \")\n",
    "print(data_android_1810.head())"
   ]
  },
  {
   "cell_type": "code",
   "execution_count": 124,
   "metadata": {},
   "outputs": [
    {
     "name": "stdout",
     "output_type": "stream",
     "text": [
      "ANDROID 2018.11: \n",
      "            index              aid                               uid  \\\n",
      "4029926  17106106  ARUKUMACHIKYOTO  fdcc72793f2a43c2882e760af91f7105   \n",
      "4029927  17106107  ARUKUMACHIKYOTO  b69aac0da25d46d8ad73ce1824c5d79f   \n",
      "4029928  17106109  ARUKUMACHIKYOTO  38cb202fbece4f4597ce272b8f7f6471   \n",
      "4029929  17106110  ARUKUMACHIKYOTO  d1d3c46a12a747dbb2f6922a1403c6bb   \n",
      "4029931  17106112  ARUKUMACHIKYOTO  85b6840288cf42dcae8ea75724bfb19c   \n",
      "\n",
      "                             uptime                       pos      cd1    cd2  \\\n",
      "4029926  2018-11-01 00:00:03.162073  (35.0205541,135.7156094)  Android  ja_JP   \n",
      "4029927  2018-11-01 00:00:04.943312  (35.0075704,135.7685907)  Android  ja_JP   \n",
      "4029928  2018-11-01 00:00:09.771439  (34.9835483,135.7311238)  Android  ja_JP   \n",
      "4029929  2018-11-01 00:00:10.349564  (35.0696164,135.7427706)  Android  ja_JP   \n",
      "4029931  2018-11-01 00:00:13.302687   (35.0550871,135.747522)  Android  ja_JP   \n",
      "\n",
      "            cd3  cd4  cd5  ...  cd9  cd10  year  month  day hour minute  \\\n",
      "4029926  3.0.53  NaN  NaN  ...  NaN   NaN  2018     11   01   00     00   \n",
      "4029927  3.0.53  NaN  NaN  ...  NaN   NaN  2018     11   01   00     00   \n",
      "4029928  3.0.53  NaN  NaN  ...  NaN   NaN  2018     11   01   00     00   \n",
      "4029929  3.0.53  NaN  NaN  ...  NaN   NaN  2018     11   01   00     00   \n",
      "4029931  3.0.53  NaN  NaN  ...  NaN   NaN  2018     11   01   00     00   \n",
      "\n",
      "            second dataVolume IDvolume  \n",
      "4029926  03.162073     832810     6615  \n",
      "4029927  04.943312                      \n",
      "4029928  09.771439                      \n",
      "4029929  10.349564                      \n",
      "4029931  13.302687                      \n",
      "\n",
      "[5 rows x 23 columns]\n"
     ]
    }
   ],
   "source": [
    "# 2018.11 ANDROID\n",
    "data_android_1811['dataVolume'] = pd.Series(len(data_android_1811), index=data_android_1811.index[[0]]).copy()\n",
    "data_android_1811['dataVolume'] = data_android_1811['dataVolume'].fillna('')\n",
    "data_android_1811['IDvolume'] = pd.Series(len(s11), index=data_android_1811.index[[0]]).copy()\n",
    "data_android_1811['IDvolume'] = data_android_1811['IDvolume'].fillna('')\n",
    "print(\"ANDROID 2018.11: \")\n",
    "print(data_android_1811.head())"
   ]
  },
  {
   "cell_type": "code",
   "execution_count": 125,
   "metadata": {},
   "outputs": [
    {
     "name": "stdout",
     "output_type": "stream",
     "text": [
      "ANDROID 2018.12: \n",
      "            index              aid                               uid  \\\n",
      "6579334  20513507  ARUKUMACHIKYOTO  c54a65e496614a328a383d0d9894b4c7   \n",
      "6579338  20513516  ARUKUMACHIKYOTO  747419485d6a4da98c668190bbe6ef38   \n",
      "6579342  20513521  ARUKUMACHIKYOTO  9162f5a04adc4523b393bba07647849f   \n",
      "6579345  20513526  ARUKUMACHIKYOTO  9f659efe83e54289a709e602474823a1   \n",
      "6579347  20513529  ARUKUMACHIKYOTO  1ef0e2c90430449fba76c0fc7ba1d48d   \n",
      "\n",
      "                             uptime                       pos      cd1  \\\n",
      "6579334  2018-12-01 00:00:01.663008  (25.1797902,121.4470128)  Android   \n",
      "6579338  2018-12-01 00:00:08.096927  (34.9384613,135.8048744)  Android   \n",
      "6579342  2018-12-01 00:00:10.980923  (35.0155902,135.7291396)  Android   \n",
      "6579345  2018-12-01 00:00:19.120645  (36.0790003,136.2479426)  Android   \n",
      "6579347  2018-12-01 00:00:21.555425  (35.1700043,136.8867346)  Android   \n",
      "\n",
      "            cd2     cd3  cd4  cd5  ...  cd9  cd10  year  month  day hour  \\\n",
      "6579334  zh_TW_     NaN  NaN  NaN  ...  NaN   NaN  2018     12   01   00   \n",
      "6579338   ja_JP  3.0.54  NaN  NaN  ...  NaN   NaN  2018     12   01   00   \n",
      "6579342   ja_JP  3.0.54  NaN  NaN  ...  NaN   NaN  2018     12   01   00   \n",
      "6579345   ja_JP  3.0.54  NaN  NaN  ...  NaN   NaN  2018     12   01   00   \n",
      "6579347   ja_JP  3.0.54  NaN  NaN  ...  NaN   NaN  2018     12   01   00   \n",
      "\n",
      "        minute     second dataVolume IDvolume  \n",
      "6579334     00  01.663008     862175     6196  \n",
      "6579338     00  08.096927                      \n",
      "6579342     00  10.980923                      \n",
      "6579345     00  19.120645                      \n",
      "6579347     00  21.555425                      \n",
      "\n",
      "[5 rows x 23 columns]\n"
     ]
    }
   ],
   "source": [
    "# 2018.12 ANDROID\n",
    "data_android_1812['dataVolume'] = pd.Series(len(data_android_1812), index=data_android_1812.index[[0]]).copy()\n",
    "data_android_1812['dataVolume'] = data_android_1812['dataVolume'].fillna('')\n",
    "data_android_1812['IDvolume'] = pd.Series(len(s12), index=data_android_1812.index[[0]]).copy()\n",
    "data_android_1812['IDvolume'] = data_android_1812['IDvolume'].fillna('')\n",
    "print(\"ANDROID 2018.12: \")\n",
    "print(data_android_1812.head())"
   ]
  },
  {
   "cell_type": "code",
   "execution_count": 126,
   "metadata": {},
   "outputs": [
    {
     "name": "stdout",
     "output_type": "stream",
     "text": [
      "ANDROID 2019.01: \n",
      "            index              aid                               uid  \\\n",
      "9202414  24073501  ARUKUMACHIKYOTO  01184c5000ca4743aa8d15f687e8696a   \n",
      "9202415  24073502  ARUKUMACHIKYOTO  05f3b654436c42bdab0b7da03d158c6e   \n",
      "9202416  24073503  ARUKUMACHIKYOTO  356b7b9c953045b092fef0703a69855e   \n",
      "9202417  24073504  ARUKUMACHIKYOTO  a1a06c388d7c4b6a91581a799aae02f9   \n",
      "9202420  24073507  ARUKUMACHIKYOTO  f3df0841cd9c4b3aa4a2a7227a16a0e6   \n",
      "\n",
      "                             uptime                       pos      cd1  \\\n",
      "9202414  2019-01-01 00:00:01.735285  (36.1532888,136.1927428)  Android   \n",
      "9202415  2019-01-01 00:00:01.782165  (35.0069566,135.6006847)  Android   \n",
      "9202416  2019-01-01 00:00:02.329042  (37.3287044,127.9492028)  Android   \n",
      "9202417  2019-01-01 00:00:03.016543   (36.8229705,127.134198)  Android   \n",
      "9202420  2019-01-01 00:00:08.388749  (24.9868341,121.5203789)  Android   \n",
      "\n",
      "            cd2     cd3  cd4  cd5  ...  cd9  cd10  year  month  day hour  \\\n",
      "9202414   ja_JP  3.0.54  NaN  NaN  ...  NaN   NaN  2019     01   01   00   \n",
      "9202415   ja_JP  3.0.54  NaN  NaN  ...  NaN   NaN  2019     01   01   00   \n",
      "9202416   ko_KR  3.0.54  NaN  NaN  ...  NaN   NaN  2019     01   01   00   \n",
      "9202417   ja_JP  3.0.54  NaN  NaN  ...  NaN   NaN  2019     01   01   00   \n",
      "9202420  zh_TW_     NaN  NaN  NaN  ...  NaN   NaN  2019     01   01   00   \n",
      "\n",
      "        minute     second dataVolume IDvolume  \n",
      "9202414     00  01.735285     858370     6364  \n",
      "9202415     00  01.782165                      \n",
      "9202416     00  02.329042                      \n",
      "9202417     00  03.016543                      \n",
      "9202420     00  08.388749                      \n",
      "\n",
      "[5 rows x 23 columns]\n"
     ]
    }
   ],
   "source": [
    "# 2019.01 ANDROID\n",
    "data_android_1901['dataVolume'] = pd.Series(len(data_android_1901), index=data_android_1901.index[[0]]).copy()\n",
    "data_android_1901['dataVolume'] = data_android_1901['dataVolume'].fillna('')\n",
    "data_android_1901['IDvolume'] = pd.Series(len(s13), index=data_android_1901.index[[0]]).copy()\n",
    "data_android_1901['IDvolume'] = data_android_1901['IDvolume'].fillna('')\n",
    "print(\"ANDROID 2019.01: \")\n",
    "print(data_android_1901.head())"
   ]
  },
  {
   "cell_type": "code",
   "execution_count": 127,
   "metadata": {},
   "outputs": [
    {
     "name": "stdout",
     "output_type": "stream",
     "text": [
      "ANDROID 2019.02: \n",
      "             index              aid                               uid  \\\n",
      "11834059  27512740  ARUKUMACHIKYOTO  793b243016d9446b8375508ae2b61d55   \n",
      "11834061  27512743  ARUKUMACHIKYOTO  9674d6828f584cd7b8f0af2ea35d868d   \n",
      "11834062  27512744  ARUKUMACHIKYOTO  d5e7187ea8124be795b5f3008926e181   \n",
      "11834063  27512746  ARUKUMACHIKYOTO  f07f2009e29f4dbdac3bbf37225aa7f4   \n",
      "11834064  27512747  ARUKUMACHIKYOTO  3607d22596fd4f1f9ec2c65d8cdc85f6   \n",
      "\n",
      "                              uptime                       pos      cd1  \\\n",
      "11834059  2019-02-01 00:00:00.671331  (22.7612306,120.3051695)  Android   \n",
      "11834061  2019-02-01 00:00:00.827579  (37.5549192,139.0649942)  Android   \n",
      "11834062  2019-02-01 00:00:01.140216  (34.8125761,135.4970353)  Android   \n",
      "11834063  2019-02-01 00:00:01.636472  (34.5019084,135.7362785)  Android   \n",
      "11834064  2019-02-01 00:00:01.698612  (35.7591839,139.4331868)  Android   \n",
      "\n",
      "            cd2     cd3  cd4  cd5  ...  cd9  cd10  year  month  day hour  \\\n",
      "11834059  zh_TW  3.0.54  NaN  NaN  ...  NaN   NaN  2019     02   01   00   \n",
      "11834061  ja_JP  3.0.54  NaN  NaN  ...  NaN   NaN  2019     02   01   00   \n",
      "11834062  ja_JP  3.0.54  NaN  NaN  ...  NaN   NaN  2019     02   01   00   \n",
      "11834063  ja_JP  3.0.54  NaN  NaN  ...  NaN   NaN  2019     02   01   00   \n",
      "11834064  ja_JP  3.0.54  NaN  NaN  ...  NaN   NaN  2019     02   01   00   \n",
      "\n",
      "         minute     second dataVolume IDvolume  \n",
      "11834059     00  00.671331     817097     6364  \n",
      "11834061     00  00.827579                      \n",
      "11834062     00  01.140216                      \n",
      "11834063     00  01.636472                      \n",
      "11834064     00  01.698612                      \n",
      "\n",
      "[5 rows x 23 columns]\n"
     ]
    }
   ],
   "source": [
    "# 2019.02 ANDROID\n",
    "data_android_1902['dataVolume'] = pd.Series(len(data_android_1902), index=data_android_1902.index[[0]]).copy()\n",
    "data_android_1902['dataVolume'] = data_android_1902['dataVolume'].fillna('')\n",
    "data_android_1902['IDvolume'] = pd.Series(len(s13), index=data_android_1902.index[[0]]).copy()\n",
    "data_android_1902['IDvolume'] = data_android_1902['IDvolume'].fillna('')\n",
    "print(\"ANDROID 2019.02: \")\n",
    "print(data_android_1902.head())"
   ]
  },
  {
   "cell_type": "markdown",
   "metadata": {},
   "source": [
    "### output all of the datasets"
   ]
  },
  {
   "cell_type": "code",
   "execution_count": 128,
   "metadata": {},
   "outputs": [],
   "source": [
    "# export the file\n",
    "data_ios.to_csv('ios_all.csv')\n",
    "data_android.to_csv('android_all.csv')\n",
    "data_ios_1809.to_csv('ios_1809.csv')\n",
    "data_ios_1810.to_csv('ios_1810.csv')\n",
    "data_ios_1811.to_csv('ios_1811.csv')\n",
    "data_ios_1812.to_csv('ios_1812.csv')\n",
    "data_ios_1901.to_csv('ios_1901.csv')\n",
    "data_ios_1902.to_csv('ios_1902.csv')\n",
    "data_android_1809.to_csv('android_1809.csv')\n",
    "data_android_1810.to_csv('android_1810.csv')\n",
    "data_android_1811.to_csv('android_1811.csv')\n",
    "data_android_1812.to_csv('android_1812.csv')\n",
    "data_android_1901.to_csv('android_1901.csv')\n",
    "data_android_1902.to_csv('android_1902.csv')"
   ]
  }
 ],
 "metadata": {
  "kernelspec": {
   "display_name": "Python 3",
   "language": "python",
   "name": "python3"
  },
  "language_info": {
   "codemirror_mode": {
    "name": "ipython",
    "version": 3
   },
   "file_extension": ".py",
   "mimetype": "text/x-python",
   "name": "python",
   "nbconvert_exporter": "python",
   "pygments_lexer": "ipython3",
   "version": "3.7.3"
  }
 },
 "nbformat": 4,
 "nbformat_minor": 2
}
